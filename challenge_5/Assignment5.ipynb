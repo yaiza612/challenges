{
 "cells": [
  {
   "cell_type": "markdown",
   "id": "377cbd83",
   "metadata": {},
   "source": [
    "# Assignment 5 SPARQL queries"
   ]
  },
  {
   "cell_type": "markdown",
   "id": "59b91e81",
   "metadata": {},
   "source": [
    "I would like you to create the SPARQL query that will answer each of these questions.  Please submit the queries as a Jupyter notebook with the SPARQL kernel activated.  NO programming is required! Submit to GitHub as usual, WITH THE ANSWERS STILL VISIBLE IN THE NOTEBOOK.   Thanks!\n"
   ]
  },
  {
   "cell_type": "markdown",
   "id": "63a2dcf3",
   "metadata": {},
   "source": [
    "UniProt SPARQL Endpoint:  http://sparql.uniprot.org/sparql"
   ]
  },
  {
   "cell_type": "code",
   "execution_count": 4,
   "id": "0b5bc1a7",
   "metadata": {},
   "outputs": [
    {
     "data": {
      "text/html": [
       "<div class=\"krn-spql\"><div class=\"magic\">Endpoint set to: https://sparql.uniprot.org/sparql</div><div class=\"magic\">Request format: JSON</div></div>"
      ],
      "text/plain": [
       "Endpoint set to: https://sparql.uniprot.org/sparql\n",
       "Request format: JSON\n"
      ]
     },
     "metadata": {},
     "output_type": "display_data"
    }
   ],
   "source": [
    "%endpoint https://sparql.uniprot.org/sparql"
   ]
  },
  {
   "cell_type": "markdown",
   "id": "c40790b4",
   "metadata": {},
   "source": [
    "https://sparql.uniprot.org/sparql I checked the queries in this website "
   ]
  },
  {
   "cell_type": "markdown",
   "id": "d4ad68ac",
   "metadata": {},
   "source": [
    "this is very useful https://sparql.uniprot.org/.well-known/sparql-examples/?offset=0&limit=0"
   ]
  },
  {
   "cell_type": "markdown",
   "id": "01242a97",
   "metadata": {},
   "source": [
    "this is essential https://en.wikibooks.org/wiki/SPARQL/Expressions_and_Functions"
   ]
  },
  {
   "cell_type": "code",
   "execution_count": 2,
   "id": "39f31a8f",
   "metadata": {},
   "outputs": [
    {
     "data": {
      "text/html": [
       "<div class=\"krn-spql\"><table><tr class=hdr><th>count</th></tr><tr class=odd><td class=val>360157660</td></tr></table><div class=\"tinfo\">Total: 1, Shown: 1</div></div>"
      ]
     },
     "metadata": {},
     "output_type": "display_data"
    }
   ],
   "source": [
    "# Q1: 1 POINT How many protein records are in UniProt?\n",
    "PREFIX up:<http://purl.uniprot.org/core/> \n",
    "SELECT (COUNT(DISTINCT  ?protein) AS ?count)\n",
    "WHERE{ \n",
    "        ?protein a up:Protein .\n",
    "}"
   ]
  },
  {
   "cell_type": "markdown",
   "id": "9879aea0",
   "metadata": {},
   "source": [
    "There are 360157660 protein records in Uniprot."
   ]
  },
  {
   "cell_type": "code",
   "execution_count": 3,
   "id": "7d16b277",
   "metadata": {},
   "outputs": [
    {
     "data": {
      "text/html": [
       "<div class=\"krn-spql\"><table><tr class=hdr><th>count</th></tr><tr class=odd><td class=val>136782</td></tr></table><div class=\"tinfo\">Total: 1, Shown: 1</div></div>"
      ]
     },
     "metadata": {},
     "output_type": "display_data"
    }
   ],
   "source": [
    "#Q2: 1 POINT How many Arabidopsis thaliana protein records are in UniProt? \n",
    "PREFIX up:<http://purl.uniprot.org/core/> \n",
    "PREFIX taxon:<http://purl.uniprot.org/taxonomy/> \n",
    "SELECT (COUNT(DISTINCT ?protein) AS ?count)\n",
    "WHERE{ \n",
    "        ?protein a up:Protein .\n",
    "\n",
    "        ?protein up:organism taxon:3702 .  \n",
    "}"
   ]
  },
  {
   "cell_type": "markdown",
   "id": "0fe3a076",
   "metadata": {},
   "source": [
    "There are 136782 Arabidopsis thaliana proteins in Uniprot."
   ]
  },
  {
   "cell_type": "code",
   "execution_count": 10,
   "id": "966c8bbe",
   "metadata": {},
   "outputs": [
    {
     "data": {
      "text/html": [
       "<div class=\"krn-spql\"><table><tr class=hdr><th>image</th></tr><tr class=odd><td class=val><a href=\"https://upload.wikimedia.org/wikipedia/commons/3/39/Arabidopsis.jpg\" target=\"_other\">https://upload.wikimedia.org/wikipedia/commons/3/39/Arabidopsis.jpg</a></td></tr><tr class=even><td class=val><a href=\"https://upload.wikimedia.org/wikipedia/commons/thumb/6/60/Arabidopsis_thaliana_inflorescencias.jpg/800px-Arabidopsis_thaliana_inflorescencias.jpg\" target=\"_other\">https://upload.wikimedia.org/wikipedia/commons/thumb/6/60/Arabidopsis_thaliana_inflorescencias.jpg/800px-Arabidopsis_thaliana_inflorescencias.jpg</a></td></tr></table><div class=\"tinfo\">Total: 2, Shown: 2</div></div>"
      ]
     },
     "metadata": {},
     "output_type": "display_data"
    }
   ],
   "source": [
    "#Q3: 1 POINT retrieve pictures of Arabidopsis thaliana from UniProt? \n",
    "PREFIX xsd: <http://www.w3.org/2001/XMLSchema#>\n",
    "PREFIX wikibase: <http://wikiba.se/ontology#>\n",
    "PREFIX wdt: <http://www.wikidata.org/prop/direct/>\n",
    "PREFIX wd: <http://www.wikidata.org/entity/>\n",
    "PREFIX vg: <http://biohackathon.org/resource/vg#>\n",
    "PREFIX up: <http://purl.uniprot.org/core/>\n",
    "PREFIX uniprotkb: <http://purl.uniprot.org/uniprot/>\n",
    "PREFIX uberon: <http://purl.obolibrary.org/obo/uo#>\n",
    "PREFIX taxon: <http://purl.uniprot.org/taxonomy/>\n",
    "PREFIX sp: <http://spinrdf.org/sp#>\n",
    "PREFIX SLM: <https://swisslipids.org/rdf/>\n",
    "PREFIX skos: <http://www.w3.org/2004/02/skos/core#>\n",
    "PREFIX sio: <http://semanticscience.org/resource/>\n",
    "PREFIX sh: <http://www.w3.org/ns/shacl#>\n",
    "PREFIX schema: <http://schema.org/>\n",
    "PREFIX sachem: <http://bioinfo.uochb.cas.cz/rdf/v1.0/sachem#>\n",
    "PREFIX rh: <http://rdf.rhea-db.org/>\n",
    "PREFIX rdf: <http://www.w3.org/1999/02/22-rdf-syntax-ns#>\n",
    "PREFIX pubmed: <http://rdf.ncbi.nlm.nih.gov/pubmed/>\n",
    "PREFIX ps: <http://www.wikidata.org/prop/statement/>\n",
    "PREFIX pq: <http://www.wikidata.org/prop/qualifier/>\n",
    "PREFIX patent: <http://data.epo.org/linked-data/def/patent/>\n",
    "PREFIX p: <http://www.wikidata.org/prop/>\n",
    "PREFIX owl: <http://www.w3.org/2002/07/owl#>\n",
    "PREFIX orthodbGroup: <http://purl.orthodb.org/odbgroup/>\n",
    "PREFIX orthodb: <http://purl.orthodb.org/>\n",
    "\n",
    "\n",
    "SELECT ?image\n",
    "WHERE\n",
    "{\n",
    "    taxon:3702  <http://xmlns.com/foaf/0.1/depiction>  ?image .\n",
    "}\n",
    "\n",
    "#I have tried to use the example 46 of sparql uniprot but there is not image of arabidopsis \n",
    "#in https://semantic.eea.europa.eu/sparql"
   ]
  },
  {
   "cell_type": "code",
   "execution_count": 4,
   "id": "ec25cfec",
   "metadata": {},
   "outputs": [
    {
     "data": {
      "text/html": [
       "<div class=\"krn-spql\"><table><tr class=hdr><th>description</th></tr><tr class=odd><td class=val>Beta-carotene + 4 reduced ferredoxin [iron-sulfur] cluster + 2 H(+) + 2 O(2) = zeaxanthin + 4 oxidized ferredoxin [iron-sulfur] cluster + 2 H(2)O.</td></tr></table><div class=\"tinfo\">Total: 1, Shown: 1</div></div>"
      ]
     },
     "metadata": {},
     "output_type": "display_data"
    }
   ],
   "source": [
    "#Q4: 1 POINT:  What is the description of the enzyme activity of UniProt Protein Q9SZZ8 \n",
    "PREFIX up:<http://purl.uniprot.org/core/> \n",
    "PREFIX uniprot:<http://purl.uniprot.org/uniprot/> \n",
    "PREFIX rdfs:<http://www.w3.org/2000/01/rdf-schema#> \n",
    "PREFIX label:<http://www.w3.org/2004/02/skos/core#>\n",
    "\n",
    "SELECT ?description\n",
    "WHERE {\n",
    "  uniprot:Q9SZZ8 a up:Protein ;\n",
    "                   up:enzyme ?enzyme .  \n",
    "  ?enzyme up:activity ?activity .\n",
    "  ?activity rdfs:label ?description .\n",
    "}"
   ]
  },
  {
   "cell_type": "code",
   "execution_count": 2,
   "id": "b944837b",
   "metadata": {},
   "outputs": [
    {
     "data": {
      "text/html": [
       "<div class=\"krn-spql\"><table><tr class=hdr><th>id</th>\n",
       "<th>date</th></tr><tr class=odd><td class=val>A0A7G2MLB1</td>\n",
       "<td class=val>2021-02-10</td></tr><tr class=even><td class=val>A0A7G9FM31</td>\n",
       "<td class=val>2021-02-10</td></tr><tr class=odd><td class=val>A0A7G9FPS4</td>\n",
       "<td class=val>2021-02-10</td></tr><tr class=even><td class=val>A0A7G9FQN4</td>\n",
       "<td class=val>2021-02-10</td></tr><tr class=odd><td class=val>A0A7G9FW33</td>\n",
       "<td class=val>2021-02-10</td></tr></table><div class=\"tinfo\">Total: 5, Shown: 5</div></div>"
      ]
     },
     "metadata": {},
     "output_type": "display_data"
    }
   ],
   "source": [
    "#Q5: 1 POINT:  Retrieve the proteins ids, and date of submission, \n",
    "#for proteins that have been added to UniProt this year   (HINT Google for “SPARQL FILTER by date”)\n",
    "# How the assignment is for january maeby \n",
    "#I should use 2022 but there is not time yet for add anything because is still 2021 so I will use 2021\n",
    "\n",
    "PREFIX up: <http://purl.uniprot.org/core/>\n",
    "PREFIX xsd: <http://www.w3.org/2001/XMLSchema#>\n",
    "\n",
    "SELECT ?id ?date\n",
    "\n",
    "WHERE\n",
    "{\n",
    "    ?protein a up:Protein ;\n",
    "               up:created ?date .\n",
    "    FILTER (?date >= \"2021-01-01\"^^xsd:date && ?date <= \"2021-12-31\"^^xsd:date) . #gYear does not work\n",
    "    BIND (REPLACE(STR(?protein), \"http://purl.uniprot.org/uniprot/\", \"\") AS ?id) .\n",
    "    \n",
    "} ORDER BY ?date LIMIT 5\n",
    "\n",
    "# I uses solution 5 of https://www.w3.org/2009/Talks/0615-qbe/ because gYear does not work"
   ]
  },
  {
   "cell_type": "code",
   "execution_count": 3,
   "id": "93046745",
   "metadata": {},
   "outputs": [
    {
     "data": {
      "text/html": [
       "<div class=\"krn-spql\"><table><tr class=hdr><th>count</th></tr><tr class=odd><td class=val>2029846</td></tr></table><div class=\"tinfo\">Total: 1, Shown: 1</div></div>"
      ]
     },
     "metadata": {},
     "output_type": "display_data"
    }
   ],
   "source": [
    "#Q6: 1 POINT How  many species are in the UniProt taxonomy?\n",
    "PREFIX taxon:<http://purl.uniprot.org/taxonomy/> \n",
    "PREFIX up:<http://purl.uniprot.org/core/> \n",
    "\n",
    "SELECT (COUNT(DISTINCT ?taxon) AS ?count)\n",
    "WHERE{\n",
    "  ?taxon a up:Taxon .\n",
    "  ?taxon up:rank up:Species \n",
    "} "
   ]
  },
  {
   "cell_type": "markdown",
   "id": "50aebcd3",
   "metadata": {},
   "source": [
    "There are 2029846 species."
   ]
  },
  {
   "cell_type": "code",
   "execution_count": 13,
   "id": "5b6d8921",
   "metadata": {},
   "outputs": [
    {
     "data": {
      "text/html": [
       "<div class=\"krn-spql\"><table><tr class=hdr><th>count</th></tr><tr class=odd><td class=val>1057158</td></tr></table><div class=\"tinfo\">Total: 1, Shown: 1</div></div>"
      ]
     },
     "metadata": {},
     "output_type": "display_data"
    }
   ],
   "source": [
    "#Q7: 2 POINT How many species have at least one protein record? \n",
    "#(this might take a long time to execute, so do this one last!)\n",
    "\n",
    "PREFIX up: <http://purl.uniprot.org/core/>\n",
    "\n",
    "SELECT (COUNT (DISTINCT ?taxon) AS ?count)\n",
    "\n",
    "WHERE\n",
    "{\n",
    "  ?protein a up:Protein;\n",
    "           up:organism ?taxon .\n",
    "  ?taxon a up:Taxon;\n",
    "          up:rank up:Species .\n",
    "}"
   ]
  },
  {
   "cell_type": "markdown",
   "id": "cf50cd7e",
   "metadata": {},
   "source": [
    "There are 1057158 species with as least one protein record. "
   ]
  },
  {
   "cell_type": "code",
   "execution_count": 2,
   "id": "e8553f8f",
   "metadata": {},
   "outputs": [
    {
     "data": {
      "text/html": [
       "<div class=\"krn-spql\"><table><tr class=hdr><th>agi</th>\n",
       "<th>gene_name</th></tr><tr class=odd><td class=val>At3g54220</td>\n",
       "<td class=val>SCR</td></tr><tr class=even><td class=val>At4g21750</td>\n",
       "<td class=val>ATML1</td></tr><tr class=odd><td class=val>At1g13980</td>\n",
       "<td class=val>GN</td></tr><tr class=even><td class=val>At5g40260</td>\n",
       "<td class=val>SWEET8</td></tr><tr class=odd><td class=val>At1g69670</td>\n",
       "<td class=val>CUL3B</td></tr><tr class=even><td class=val>At1g63700</td>\n",
       "<td class=val>YDA</td></tr><tr class=odd><td class=val>At2g46710</td>\n",
       "<td class=val>ROPGAP3</td></tr><tr class=even><td class=val>At1g26830</td>\n",
       "<td class=val>CUL3A</td></tr><tr class=odd><td class=val>At3g09090</td>\n",
       "<td class=val>DEX1</td></tr><tr class=even><td class=val>At4g37650</td>\n",
       "<td class=val>SHR</td></tr><tr class=odd><td class=val>At5g55250</td>\n",
       "<td class=val>IAMT1</td></tr><tr class=even><td class=val>At3g02130</td>\n",
       "<td class=val>RPK2</td></tr><tr class=odd><td class=val>At2g42580</td>\n",
       "<td class=val>TTL3</td></tr><tr class=even><td class=val>At1g69270</td>\n",
       "<td class=val>RPK1</td></tr><tr class=odd><td class=val>At5g02010</td>\n",
       "<td class=val>ROPGEF7</td></tr><tr class=even><td class=val>At1g66470</td>\n",
       "<td class=val>RHD6</td></tr><tr class=odd><td class=val>At5g37800</td>\n",
       "<td class=val>RSL1</td></tr></table><div class=\"tinfo\">Total: 17, Shown: 17</div></div>"
      ]
     },
     "metadata": {},
     "output_type": "display_data"
    }
   ],
   "source": [
    "#Q8: 3 points:  find the AGI codes and gene names for all Arabidopsis thaliana  proteins \n",
    "#that have a protein function annotation description that mentions “pattern formation”\n",
    "\n",
    "\n",
    "PREFIX rdfs: <http://www.w3.org/2000/01/rdf-schema#>\n",
    "PREFIX up:<http://purl.uniprot.org/core/>\n",
    "PREFIX taxon:<http://purl.uniprot.org/taxonomy/>\n",
    "PREFIX skos:<http://www.w3.org/2004/02/skos/core#>\n",
    "SELECT ?agi ?gene_name\n",
    "WHERE\n",
    "{\n",
    "    ?protein a up:Protein .\n",
    "    ?protein up:organism taxon:3702 .\n",
    "    ?protein up:encodedBy ?gene .\n",
    "    ?gene skos:prefLabel ?gene_name .\n",
    "    ?gene up:locusName ?agi .\n",
    "    ?protein up:annotation ?annotation.\n",
    "    ?annotation a up:Function_Annotation .\n",
    "    ?annotation rdfs:comment ?text .\n",
    "    FILTER CONTAINS(?text,\"pattern formation\") .\n",
    "\n",
    "}\n"
   ]
  },
  {
   "cell_type": "markdown",
   "id": "ddd33039",
   "metadata": {},
   "source": [
    "From the MetaNetX metabolic networks for metagenomics database SPARQL Endpoint: https://rdf.metanetx.org/sparql\n",
    "(this slide deck will make it much easier for you!  https://www.metanetx.org/cgi-bin/mnxget/mnxref/MetaNetX_RDF_schema.pdf)"
   ]
  },
  {
   "cell_type": "code",
   "execution_count": 1,
   "id": "ccb2963c",
   "metadata": {},
   "outputs": [
    {
     "data": {
      "text/html": [
       "<div class=\"krn-spql\"><div class=\"magic\">Endpoint set to: https://rdf.metanetx.org/sparql</div></div>"
      ],
      "text/plain": [
       "Endpoint set to: https://rdf.metanetx.org/sparql\n"
      ]
     },
     "metadata": {},
     "output_type": "display_data"
    }
   ],
   "source": [
    "%endpoint https://rdf.metanetx.org/sparql"
   ]
  },
  {
   "cell_type": "code",
   "execution_count": 2,
   "id": "fa825a67",
   "metadata": {},
   "outputs": [
    {
     "data": {
      "text/html": [
       "<div class=\"krn-spql\"><table><tr class=hdr><th>pept</th>\n",
       "<th>reac_label</th>\n",
       "<th>reac</th></tr><tr class=odd><td class=val><a href=\"https://rdf.metanetx.org/pept/GLGA_CLOD6\" target=\"_other\">https://rdf.metanetx.org/pept/GLGA_CLOD6</a></td>\n",
       "<td class=val>mnxr165934</td>\n",
       "<td class=val><a href=\"https://rdf.metanetx.org/reac/mnxr165934\" target=\"_other\">https://rdf.metanetx.org/reac/mnxr165934</a></td></tr></table><div class=\"tinfo\">Total: 1, Shown: 1</div></div>"
      ]
     },
     "metadata": {},
     "output_type": "display_data"
    }
   ],
   "source": [
    "#Q9: 4 POINTS:  what is the MetaNetX Reaction identifier (starts with “mnxr”) for the UniProt Protein uniprotkb:Q18A79\n",
    "PREFIX mnx: <https://rdf.metanetx.org/schema/>\n",
    "PREFIX rdfs: <http://www.w3.org/2000/01/rdf-schema#>\n",
    "PREFIX up: <http://purl.uniprot.org/uniprot/>\n",
    "\n",
    "SELECT ?pept ?reac_label ?reac\n",
    "WHERE{\n",
    "    ?pept mnx:peptXref up:Q18A79 .\n",
    "    ?cata mnx:pept ?pept .\n",
    "    ?gpr mnx:cata ?cata ;\n",
    "         mnx:reac ?reac .\n",
    "    ?reac rdfs:label ?reac_label .\n",
    "\n",
    "} LIMIT 1"
   ]
  },
  {
   "cell_type": "markdown",
   "id": "10352023",
   "metadata": {},
   "source": [
    "FEDERATED QUERY - UniProt and MetaNetX\n",
    "\n"
   ]
  },
  {
   "cell_type": "code",
   "execution_count": null,
   "id": "4ae8512d",
   "metadata": {},
   "outputs": [],
   "source": [
    "%endpoint https://sparql.uniprot.org/sparql #otherwise the 10 does not work"
   ]
  },
  {
   "cell_type": "code",
   "execution_count": 5,
   "id": "74485d11",
   "metadata": {},
   "outputs": [
    {
     "data": {
      "text/html": [
       "<div class=\"krn-spql\"><table><tr class=hdr><th>proteinRef</th></tr><tr class=odd><td class=val><a href=\"http://purl.uniprot.org/uniprot/Q18A79\" target=\"_other\">http://purl.uniprot.org/uniprot/Q18A79</a></td></tr></table><div class=\"tinfo\">Total: 1, Shown: 1</div></div>"
      ]
     },
     "metadata": {},
     "output_type": "display_data"
    }
   ],
   "source": [
    "PREFIX xsd: <http://www.w3.org/2001/XMLSchema#>\n",
    "PREFIX wikibase: <http://wikiba.se/ontology#>\n",
    "PREFIX wdt: <http://www.wikidata.org/prop/direct/>\n",
    "PREFIX wd: <http://www.wikidata.org/entity/>\n",
    "PREFIX vg: <http://biohackathon.org/resource/vg#>\n",
    "PREFIX up: <http://purl.uniprot.org/core/>\n",
    "PREFIX uniprotkb: <http://purl.uniprot.org/uniprot/>\n",
    "PREFIX uberon: <http://purl.obolibrary.org/obo/uo#>\n",
    "PREFIX taxon: <http://purl.uniprot.org/taxonomy/>\n",
    "PREFIX sp: <http://spinrdf.org/sp#>\n",
    "PREFIX SLM: <https://swisslipids.org/rdf/>\n",
    "PREFIX skos: <http://www.w3.org/2004/02/skos/core#>\n",
    "PREFIX sio: <http://semanticscience.org/resource/>\n",
    "PREFIX sh: <http://www.w3.org/ns/shacl#>\n",
    "PREFIX schema: <http://schema.org/>\n",
    "PREFIX sachem: <http://bioinfo.uochb.cas.cz/rdf/v1.0/sachem#>\n",
    "PREFIX rh: <http://rdf.rhea-db.org/>\n",
    "PREFIX rdf: <http://www.w3.org/1999/02/22-rdf-syntax-ns#>\n",
    "PREFIX pubmed: <http://rdf.ncbi.nlm.nih.gov/pubmed/>\n",
    "PREFIX ps: <http://www.wikidata.org/prop/statement/>\n",
    "PREFIX pq: <http://www.wikidata.org/prop/qualifier/>\n",
    "PREFIX patent: <http://data.epo.org/linked-data/def/patent/>\n",
    "PREFIX p: <http://www.wikidata.org/prop/>\n",
    "PREFIX owl: <http://www.w3.org/2002/07/owl#>\n",
    "PREFIX orthodbGroup: <http://purl.orthodb.org/odbgroup/>\n",
    "PREFIX orthodb: <http://purl.orthodb.org/>\n",
    "PREFIX orth: <http://purl.org/net/orth#>\n",
    "PREFIX obo: <http://purl.obolibrary.org/obo/>\n",
    "PREFIX np: <http://nextprot.org/rdf#>\n",
    "PREFIX nextprot: <http://nextprot.org/rdf/entry/>\n",
    "PREFIX mnx: <https://rdf.metanetx.org/schema/>\n",
    "PREFIX mnet: <https://rdf.metanetx.org/mnet/>\n",
    "PREFIX mesh: <http://id.nlm.nih.gov/mesh/>\n",
    "PREFIX lscr: <http://purl.org/lscr#>\n",
    "PREFIX keywords: <http://purl.uniprot.org/keywords/>\n",
    "PREFIX insdcschema: <http://ddbj.nig.ac.jp/ontologies/nucleotide/>\n",
    "PREFIX insdc: <http://identifiers.org/insdc/>\n",
    "PREFIX identifiers: <http://identifiers.org/>\n",
    "PREFIX glyconnect: <https://purl.org/glyconnect/>\n",
    "PREFIX glycan: <http://purl.jp/bio/12/glyco/glycan#>\n",
    "PREFIX genex: <http://purl.org/genex#>\n",
    "PREFIX foaf: <http://xmlns.com/foaf/0.1/>\n",
    "PREFIX faldo: <http://biohackathon.org/resource/faldo#>\n",
    "PREFIX eunisSpecies: <http://eunis.eea.europa.eu/rdf/species-schema.rdf#>\n",
    "PREFIX ensembltranscript: <http://rdf.ebi.ac.uk/resource/ensembl.transcript/>\n",
    "PREFIX ensemblterms: <http://rdf.ebi.ac.uk/terms/ensembl/>\n",
    "PREFIX ensemblprotein: <http://rdf.ebi.ac.uk/resource/ensembl.protein/>\n",
    "PREFIX ensemblexon: <http://rdf.ebi.ac.uk/resource/ensembl.exon/>\n",
    "PREFIX ensembl: <http://rdf.ebi.ac.uk/resource/ensembl/>\n",
    "PREFIX ec: <http://purl.uniprot.org/enzyme/>\n",
    "PREFIX dc: <http://purl.org/dc/terms/>\n",
    "PREFIX cco: <http://rdf.ebi.ac.uk/terms/chembl#>\n",
    "PREFIX chebihash: <http://purl.obolibrary.org/obo/chebi#>\n",
    "PREFIX CHEBI: <http://purl.obolibrary.org/obo/CHEBI_>\n",
    "PREFIX bibo: <http://purl.org/ontology/bibo/>\n",
    "PREFIX allie: <http://allie.dbcls.jp/>\n",
    "PREFIX GO: <http://purl.obolibrary.org/obo/GO_>\n",
    "PREFIX rdfs: <http://www.w3.org/2000/01/rdf-schema#>\n",
    "SELECT ?proteinRef\n",
    "WHERE\n",
    "{\n",
    "    ?protein a up:Protein .\n",
    "    ?protein up:organism taxon:272563 .\n",
    "    ?protein up:mnemonic ?mnemonic .\n",
    "    ?protein up:classifiedWith ?goTerm .\n",
    "    ?goTerm rdfs:label ?biotype .\n",
    "    FILTER CONTAINS(?biotype, \"starch synthase\")\n",
    "    bind (substr(str(?protein),33) as ?ac)\n",
    "    bind (IRI(CONCAT(\"http://purl.uniprot.org/uniprot/\",?ac)) as ?proteinRef)\n",
    "}"
   ]
  },
  {
   "cell_type": "markdown",
   "id": "0ced002f",
   "metadata": {},
   "source": [
    "Find the identifier:"
   ]
  },
  {
   "cell_type": "code",
   "execution_count": 7,
   "id": "8171cd10",
   "metadata": {},
   "outputs": [
    {
     "data": {
      "text/html": [
       "<div class=\"krn-spql\"><table><tr class=hdr><th>proteinRef</th>\n",
       "<th>mnemonic</th>\n",
       "<th>reac_label</th>\n",
       "<th>biotype</th></tr><tr class=odd><td class=val><a href=\"http://purl.uniprot.org/uniprot/Q18A79\" target=\"_other\">http://purl.uniprot.org/uniprot/Q18A79</a></td>\n",
       "<td class=val>GLGA_CLOD6</td>\n",
       "<td class=val>mnxr165934</td>\n",
       "<td class=val>starch synthase activity</td></tr></table><div class=\"tinfo\">Total: 1, Shown: 1</div></div>"
      ]
     },
     "metadata": {},
     "output_type": "display_data"
    }
   ],
   "source": [
    "#Q10: 5 POINTS:  What is the official Gene ID (UniProt calls this a “mnemonic”) \n",
    "#and the MetaNetX Reaction identifier (mnxr…..) \n",
    "#for the protein that has “Starch synthase” catalytic activity in Clostridium difficile (taxon 272563).\n",
    "\n",
    "PREFIX xsd: <http://www.w3.org/2001/XMLSchema#>\n",
    "PREFIX wikibase: <http://wikiba.se/ontology#>\n",
    "PREFIX wdt: <http://www.wikidata.org/prop/direct/>\n",
    "PREFIX wd: <http://www.wikidata.org/entity/>\n",
    "PREFIX vg: <http://biohackathon.org/resource/vg#>\n",
    "PREFIX up: <http://purl.uniprot.org/core/>\n",
    "PREFIX uniprotkb: <http://purl.uniprot.org/uniprot/>\n",
    "PREFIX uberon: <http://purl.obolibrary.org/obo/uo#>\n",
    "PREFIX taxon: <http://purl.uniprot.org/taxonomy/>\n",
    "PREFIX sp: <http://spinrdf.org/sp#>\n",
    "PREFIX SLM: <https://swisslipids.org/rdf/>\n",
    "PREFIX skos: <http://www.w3.org/2004/02/skos/core#>\n",
    "PREFIX sio: <http://semanticscience.org/resource/>\n",
    "PREFIX sh: <http://www.w3.org/ns/shacl#>\n",
    "PREFIX schema: <http://schema.org/>\n",
    "PREFIX sachem: <http://bioinfo.uochb.cas.cz/rdf/v1.0/sachem#>\n",
    "PREFIX rh: <http://rdf.rhea-db.org/>\n",
    "PREFIX rdf: <http://www.w3.org/1999/02/22-rdf-syntax-ns#>\n",
    "PREFIX pubmed: <http://rdf.ncbi.nlm.nih.gov/pubmed/>\n",
    "PREFIX ps: <http://www.wikidata.org/prop/statement/>\n",
    "PREFIX pq: <http://www.wikidata.org/prop/qualifier/>\n",
    "PREFIX patent: <http://data.epo.org/linked-data/def/patent/>\n",
    "PREFIX p: <http://www.wikidata.org/prop/>\n",
    "PREFIX owl: <http://www.w3.org/2002/07/owl#>\n",
    "PREFIX orthodbGroup: <http://purl.orthodb.org/odbgroup/>\n",
    "PREFIX orthodb: <http://purl.orthodb.org/>\n",
    "PREFIX orth: <http://purl.org/net/orth#>\n",
    "PREFIX obo: <http://purl.obolibrary.org/obo/>\n",
    "PREFIX np: <http://nextprot.org/rdf#>\n",
    "PREFIX nextprot: <http://nextprot.org/rdf/entry/>\n",
    "PREFIX mnx: <https://rdf.metanetx.org/schema/>\n",
    "PREFIX mnet: <https://rdf.metanetx.org/mnet/>\n",
    "PREFIX mesh: <http://id.nlm.nih.gov/mesh/>\n",
    "PREFIX lscr: <http://purl.org/lscr#>\n",
    "PREFIX keywords: <http://purl.uniprot.org/keywords/>\n",
    "PREFIX insdcschema: <http://ddbj.nig.ac.jp/ontologies/nucleotide/>\n",
    "PREFIX insdc: <http://identifiers.org/insdc/>\n",
    "PREFIX identifiers: <http://identifiers.org/>\n",
    "PREFIX glyconnect: <https://purl.org/glyconnect/>\n",
    "PREFIX glycan: <http://purl.jp/bio/12/glyco/glycan#>\n",
    "PREFIX genex: <http://purl.org/genex#>\n",
    "PREFIX foaf: <http://xmlns.com/foaf/0.1/>\n",
    "PREFIX faldo: <http://biohackathon.org/resource/faldo#>\n",
    "PREFIX eunisSpecies: <http://eunis.eea.europa.eu/rdf/species-schema.rdf#>\n",
    "PREFIX ensembltranscript: <http://rdf.ebi.ac.uk/resource/ensembl.transcript/>\n",
    "PREFIX ensemblterms: <http://rdf.ebi.ac.uk/terms/ensembl/>\n",
    "PREFIX ensemblprotein: <http://rdf.ebi.ac.uk/resource/ensembl.protein/>\n",
    "PREFIX ensemblexon: <http://rdf.ebi.ac.uk/resource/ensembl.exon/>\n",
    "PREFIX ensembl: <http://rdf.ebi.ac.uk/resource/ensembl/>\n",
    "PREFIX ec: <http://purl.uniprot.org/enzyme/>\n",
    "PREFIX dc: <http://purl.org/dc/terms/>\n",
    "PREFIX cco: <http://rdf.ebi.ac.uk/terms/chembl#>\n",
    "PREFIX chebihash: <http://purl.obolibrary.org/obo/chebi#>\n",
    "PREFIX CHEBI: <http://purl.obolibrary.org/obo/CHEBI_>\n",
    "PREFIX bibo: <http://purl.org/ontology/bibo/>\n",
    "PREFIX allie: <http://allie.dbcls.jp/>\n",
    "PREFIX GO: <http://purl.obolibrary.org/obo/GO_>\n",
    "PREFIX rdfs: <http://www.w3.org/2000/01/rdf-schema#>\n",
    "\n",
    "SELECT ?proteinRef ?mnemonic ?reac_label ?biotype\n",
    "WHERE\n",
    "    {\n",
    "    service <http://sparql.uniprot.org/sparql> {\n",
    "    ?protein a up:Protein .\n",
    "    ?protein up:organism taxon:272563 .\n",
    "    ?protein up:mnemonic ?mnemonic .\n",
    "    ?protein up:classifiedWith ?goTerm .\n",
    "    ?goTerm rdfs:label ?biotype .\n",
    "    FILTER CONTAINS(?biotype, \"starch synthase\")\n",
    "    bind (substr(str(?protein),33) as ?ac)\n",
    "    bind (IRI(CONCAT(\"http://purl.uniprot.org/uniprot/\",?ac)) as ?proteinRef)\n",
    "  }\n",
    "  service <https://rdf.metanetx.org/sparql> {\n",
    "    ?pept mnx:peptXref ?proteinRef .\n",
    "    ?cata mnx:pept ?pept .\n",
    "    ?gpr mnx:cata ?cata ;\n",
    "         mnx:reac ?reac .\n",
    "    ?reac rdfs:label ?reac_label .\n",
    "  }\n",
    "}LIMIT 1\n"
   ]
  }
 ],
 "metadata": {
  "kernelspec": {
   "display_name": "SPARQL",
   "language": "sparql",
   "name": "sparql"
  },
  "language_info": {
   "codemirror_mode": {
    "name": "sparql"
   },
   "mimetype": "application/sparql-query",
   "name": "sparql",
   "pygments_lexer": "sparql-nb"
  }
 },
 "nbformat": 4,
 "nbformat_minor": 5
}
