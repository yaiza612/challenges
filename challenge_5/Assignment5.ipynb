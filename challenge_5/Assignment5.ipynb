{
 "cells": [
  {
   "cell_type": "markdown",
   "id": "377cbd83",
   "metadata": {},
   "source": [
    "# Assignment 5 SPARQL queries"
   ]
  },
  {
   "cell_type": "markdown",
   "id": "59b91e81",
   "metadata": {},
   "source": [
    "I would like you to create the SPARQL query that will answer each of these questions.  Please submit the queries as a Jupyter notebook with the SPARQL kernel activated.  NO programming is required! Submit to GitHub as usual, WITH THE ANSWERS STILL VISIBLE IN THE NOTEBOOK.   Thanks!\n",
    "\n",
    "For many of these you will need to look-up how to use the SPARQL functions ‘COUNT’ and ‘DISTINCT’ (we used ‘distinct’ in class), and probably a few others...\n",
    "-----------------------------------------\n"
   ]
  },
  {
   "cell_type": "markdown",
   "id": "63a2dcf3",
   "metadata": {},
   "source": [
    "UniProt SPARQL Endpoint:  http://sparql.uniprot.org/sparql"
   ]
  },
  {
   "cell_type": "code",
   "execution_count": 3,
   "id": "0b5bc1a7",
   "metadata": {},
   "outputs": [
    {
     "data": {
      "text/html": [
       "<div class=\"krn-spql\"><div class=\"magic\">Endpoint set to: https://sparql.uniprot.org/sparql</div><div class=\"magic\">Request format: JSON</div></div>"
      ],
      "text/plain": [
       "Endpoint set to: https://sparql.uniprot.org/sparql\n",
       "Request format: JSON\n"
      ]
     },
     "metadata": {},
     "output_type": "display_data"
    }
   ],
   "source": [
    "%endpoint https://sparql.uniprot.org/sparql\n",
    "%format JSON"
   ]
  },
  {
   "cell_type": "markdown",
   "id": "c40790b4",
   "metadata": {},
   "source": [
    "https://sparql.uniprot.org/sparql I checked in this website "
   ]
  },
  {
   "cell_type": "markdown",
   "id": "d4ad68ac",
   "metadata": {},
   "source": [
    "very useful https://sparql.uniprot.org/.well-known/sparql-examples/?offset=18"
   ]
  },
  {
   "cell_type": "markdown",
   "id": "8abed5d9",
   "metadata": {},
   "source": [
    "essential https://en.wikibooks.org/wiki/SPARQL/Expressions_and_Functions"
   ]
  },
  {
   "cell_type": "code",
   "execution_count": null,
   "id": "39f31a8f",
   "metadata": {},
   "outputs": [],
   "source": [
    "# Q1: 1 POINT How many protein records are in UniProt?\n",
    "PREFIX up:<http://purl.uniprot.org/core/> \n",
    "SELECT (COUNT(DISTINCT  ?protein) AS ?count)\n",
    "WHERE{ \n",
    "        ?protein a up:Protein .\n",
    "}"
   ]
  },
  {
   "cell_type": "code",
   "execution_count": 3,
   "id": "7d16b277",
   "metadata": {},
   "outputs": [
    {
     "data": {
      "text/html": [
       "<div class=\"krn-spql\"><table><tr class=hdr><th>count</th></tr><tr class=odd><td class=val>136782</td></tr></table><div class=\"tinfo\">Total: 1, Shown: 1</div></div>"
      ]
     },
     "metadata": {},
     "output_type": "display_data"
    }
   ],
   "source": [
    "#Q2: 1 POINT How many Arabidopsis thaliana protein records are in UniProt? \n",
    "PREFIX up:<http://purl.uniprot.org/core/> \n",
    "PREFIX taxon:<http://purl.uniprot.org/taxonomy/> \n",
    "SELECT (COUNT(DISTINCT ?protein) AS ?count)\n",
    "WHERE{ \n",
    "        ?protein a up:Protein .\n",
    "\n",
    "        ?protein up:organism taxon:3702 .  \n",
    "}"
   ]
  },
  {
   "cell_type": "code",
   "execution_count": 14,
   "id": "966c8bbe",
   "metadata": {},
   "outputs": [
    {
     "data": {
      "text/html": [
       "<div class=\"krn-spql\"><table><tr class=hdr><th>taxon</th>\n",
       "<th>ncbiTaxid</th>\n",
       "<th>eunisTaxon</th>\n",
       "<th>eunisname</th>\n",
       "<th>image</th></tr></table><div class=\"tinfo\">Total: 0, Shown: 0</div></div>"
      ]
     },
     "metadata": {},
     "output_type": "display_data"
    }
   ],
   "source": [
    "#Q3: 1 POINT retrieve pictures of Arabidopsis thaliana from UniProt? \n",
    "PREFIX xsd: <http://www.w3.org/2001/XMLSchema#>\n",
    "PREFIX wikibase: <http://wikiba.se/ontology#>\n",
    "PREFIX wdt: <http://www.wikidata.org/prop/direct/>\n",
    "PREFIX wd: <http://www.wikidata.org/entity/>\n",
    "PREFIX vg: <http://biohackathon.org/resource/vg#>\n",
    "PREFIX up: <http://purl.uniprot.org/core/>\n",
    "PREFIX uniprotkb: <http://purl.uniprot.org/uniprot/>\n",
    "PREFIX uberon: <http://purl.obolibrary.org/obo/uo#>\n",
    "PREFIX taxon: <http://purl.uniprot.org/taxonomy/>\n",
    "PREFIX sp: <http://spinrdf.org/sp#>\n",
    "PREFIX SLM: <https://swisslipids.org/rdf/>\n",
    "PREFIX skos: <http://www.w3.org/2004/02/skos/core#>\n",
    "PREFIX sio: <http://semanticscience.org/resource/>\n",
    "PREFIX sh: <http://www.w3.org/ns/shacl#>\n",
    "PREFIX schema: <http://schema.org/>\n",
    "PREFIX sachem: <http://bioinfo.uochb.cas.cz/rdf/v1.0/sachem#>\n",
    "PREFIX rh: <http://rdf.rhea-db.org/>\n",
    "PREFIX rdf: <http://www.w3.org/1999/02/22-rdf-syntax-ns#>\n",
    "PREFIX pubmed: <http://rdf.ncbi.nlm.nih.gov/pubmed/>\n",
    "PREFIX ps: <http://www.wikidata.org/prop/statement/>\n",
    "PREFIX pq: <http://www.wikidata.org/prop/qualifier/>\n",
    "PREFIX patent: <http://data.epo.org/linked-data/def/patent/>\n",
    "PREFIX p: <http://www.wikidata.org/prop/>\n",
    "PREFIX owl: <http://www.w3.org/2002/07/owl#>\n",
    "PREFIX orthodbGroup: <http://purl.orthodb.org/odbgroup/>\n",
    "PREFIX orthodb: <http://purl.orthodb.org/>\n",
    "PREFIX orth: <http://purl.org/net/orth#>\n",
    "PREFIX obo: <http://purl.obolibrary.org/obo/>\n",
    "PREFIX np: <http://nextprot.org/rdf#>\n",
    "PREFIX nextprot: <http://nextprot.org/rdf/entry/>\n",
    "PREFIX mnx: <https://rdf.metanetx.org/schema/>\n",
    "PREFIX mnet: <https://rdf.metanetx.org/mnet/>\n",
    "PREFIX mesh: <http://id.nlm.nih.gov/mesh/>\n",
    "PREFIX lscr: <http://purl.org/lscr#>\n",
    "PREFIX keywords: <http://purl.uniprot.org/keywords/>\n",
    "PREFIX insdcschema: <http://ddbj.nig.ac.jp/ontologies/nucleotide/>\n",
    "PREFIX insdc: <http://identifiers.org/insdc/>\n",
    "PREFIX identifiers: <http://identifiers.org/>\n",
    "PREFIX glyconnect: <https://purl.org/glyconnect/>\n",
    "PREFIX glycan: <http://purl.jp/bio/12/glyco/glycan#>\n",
    "PREFIX genex: <http://purl.org/genex#>\n",
    "PREFIX foaf: <http://xmlns.com/foaf/0.1/>\n",
    "PREFIX faldo: <http://biohackathon.org/resource/faldo#>\n",
    "PREFIX eunisSpecies: <http://eunis.eea.europa.eu/rdf/species-schema.rdf#>\n",
    "PREFIX ensembltranscript: <http://rdf.ebi.ac.uk/resource/ensembl.transcript/>\n",
    "PREFIX ensemblterms: <http://rdf.ebi.ac.uk/terms/ensembl/>\n",
    "PREFIX ensemblprotein: <http://rdf.ebi.ac.uk/resource/ensembl.protein/>\n",
    "PREFIX ensemblexon: <http://rdf.ebi.ac.uk/resource/ensembl.exon/>\n",
    "PREFIX ensembl: <http://rdf.ebi.ac.uk/resource/ensembl/>\n",
    "PREFIX ec: <http://purl.uniprot.org/enzyme/>\n",
    "PREFIX dc: <http://purl.org/dc/terms/>\n",
    "PREFIX cco: <http://rdf.ebi.ac.uk/terms/chembl#>\n",
    "PREFIX chebihash: <http://purl.obolibrary.org/obo/chebi#>\n",
    "PREFIX CHEBI: <http://purl.obolibrary.org/obo/CHEBI_>\n",
    "PREFIX bibo: <http://purl.org/ontology/bibo/>\n",
    "PREFIX allie: <http://allie.dbcls.jp/>\n",
    "PREFIX GO: <http://purl.obolibrary.org/obo/GO_>\n",
    "PREFIX rdfs: <http://www.w3.org/2000/01/rdf-schema#>\n",
    "SELECT \n",
    "  ?taxon\n",
    "  ?ncbiTaxid\n",
    "  ?eunisTaxon\n",
    "  ?eunisname \n",
    "  ?image\n",
    "WHERE\n",
    "{\n",
    "  GRAPH<http://sparql.uniprot.org/taxonomy>{\n",
    "      ?taxon a up:Taxon .\n",
    "      ?taxon rdfs:subClassOf taxon:3702 .\n",
    "      BIND(strafter(str(?taxon), 'onomy/') AS ?ncbiTaxid)\n",
    "  }\n",
    "  SERVICE <https://semantic.eea.europa.eu/sparql> {\n",
    "     ?eunisTaxon a eunisSpecies:SpeciesSynonym ;\n",
    "           eunisSpecies:binomialName ?eunisname ;\n",
    "           eunisSpecies:sameSpeciesNCBI ?ncbiTaxid ;\n",
    "           <http://xmlns.com/foaf/0.1/depiction> ?image .\n",
    "  }\n",
    "}"
   ]
  },
  {
   "cell_type": "code",
   "execution_count": 4,
   "id": "ec25cfec",
   "metadata": {},
   "outputs": [
    {
     "data": {
      "text/html": [
       "<div class=\"krn-spql\"><table><tr class=hdr><th>description</th></tr><tr class=odd><td class=val>Beta-carotene + 4 reduced ferredoxin [iron-sulfur] cluster + 2 H(+) + 2 O(2) = zeaxanthin + 4 oxidized ferredoxin [iron-sulfur] cluster + 2 H(2)O.</td></tr></table><div class=\"tinfo\">Total: 1, Shown: 1</div></div>"
      ]
     },
     "metadata": {},
     "output_type": "display_data"
    }
   ],
   "source": [
    "#Q4: 1 POINT:  What is the description of the enzyme activity of UniProt Protein Q9SZZ8 \n",
    "PREFIX up:<http://purl.uniprot.org/core/> \n",
    "PREFIX uniprot:<http://purl.uniprot.org/uniprot/> \n",
    "PREFIX rdfs:<http://www.w3.org/2000/01/rdf-schema#> \n",
    "PREFIX label:<http://www.w3.org/2004/02/skos/core#>\n",
    "\n",
    "SELECT ?description\n",
    "WHERE {\n",
    "  uniprot:Q9SZZ8 a up:Protein ;\n",
    "                   up:enzyme ?enzyme .  \n",
    "  ?enzyme up:activity ?activity .\n",
    "  ?activity rdfs:label ?description .\n",
    "}"
   ]
  },
  {
   "cell_type": "code",
   "execution_count": 2,
   "id": "3718d44a",
   "metadata": {},
   "outputs": [
    {
     "data": {
      "text/html": [
       "<div class=\"krn-spql\"><div class=\"krn-error\"><span class=\"title\">Error:</span> no endpoint defined</div></div>"
      ],
      "text/plain": [
       "Error: no endpoint defined"
      ]
     },
     "metadata": {},
     "output_type": "display_data"
    }
   ],
   "source": [
    "#Q5: 1 POINT:  Retrieve the proteins ids, and date of submission, \n",
    "#for proteins that have been added to UniProt this year   (HINT Google for “SPARQL FILTER by date”)\n",
    "# How the assignment is for january maeby \n",
    "#I should use 2022 but there is not time yet for add anything because is still 2021 so I will use 2021\n",
    "PREFIX up:<http://purl.uniprot.org/core/> \n",
    "PREFIX uniprot:<http://purl.uniprot.org/uniprot/> \n",
    "\n",
    "SELECT ?id ?date\n",
    "WHERE{\n",
    "  ?protein a up:Protein . \n",
    "  ?protein up:mnemonic ?id .\n",
    "  ?protein up:created ?date .\n",
    "    FILTER(DATATYPE(?object) = xsd:date).\n",
    "  \n",
    "}\n",
    "\n"
   ]
  },
  {
   "cell_type": "code",
   "execution_count": null,
   "id": "19cc0ac6",
   "metadata": {},
   "outputs": [],
   "source": [
    "PREFIX up:<http://purl.uniprot.org/core/> \n",
    "PREFIX xsd: <http://www.w3.org/2001/XMLSchema#>\n",
    "PREFIX uniprot:<http://purl.uniprot.org/uniprot/> \n",
    "\n",
    "SELECT ?id ?date\n",
    "WHERE{\n",
    "  ?protein a up:Protein . \n",
    "  ?protein up:mnemonic ?id .\n",
    "  ?protein up:created ?date .\n",
    "  filter(xsd:integer(?gYear) = 2021)\n",
    "}\n"
   ]
  },
  {
   "cell_type": "code",
   "execution_count": 8,
   "id": "f76f0f39",
   "metadata": {},
   "outputs": [
    {
     "data": {
      "text/html": [
       "<div class=\"krn-spql\"><table><tr class=hdr><th>protein</th></tr></table><div class=\"tinfo\">Total: 0, Shown: 0</div></div>"
      ]
     },
     "metadata": {},
     "output_type": "display_data"
    }
   ],
   "source": [
    "PREFIX xsd: <http://www.w3.org/2001/XMLSchema#>\n",
    "PREFIX wikibase: <http://wikiba.se/ontology#>\n",
    "PREFIX wdt: <http://www.wikidata.org/prop/direct/>\n",
    "PREFIX wd: <http://www.wikidata.org/entity/>\n",
    "PREFIX vg: <http://biohackathon.org/resource/vg#>\n",
    "PREFIX up: <http://purl.uniprot.org/core/>\n",
    "PREFIX uniprotkb: <http://purl.uniprot.org/uniprot/>\n",
    "PREFIX uberon: <http://purl.obolibrary.org/obo/uo#>\n",
    "PREFIX taxon: <http://purl.uniprot.org/taxonomy/>\n",
    "PREFIX sp: <http://spinrdf.org/sp#>\n",
    "PREFIX SLM: <https://swisslipids.org/rdf/>\n",
    "PREFIX skos: <http://www.w3.org/2004/02/skos/core#>\n",
    "PREFIX sio: <http://semanticscience.org/resource/>\n",
    "PREFIX sh: <http://www.w3.org/ns/shacl#>\n",
    "PREFIX schema: <http://schema.org/>\n",
    "PREFIX sachem: <http://bioinfo.uochb.cas.cz/rdf/v1.0/sachem#>\n",
    "PREFIX rh: <http://rdf.rhea-db.org/>\n",
    "PREFIX rdf: <http://www.w3.org/1999/02/22-rdf-syntax-ns#>\n",
    "PREFIX pubmed: <http://rdf.ncbi.nlm.nih.gov/pubmed/>\n",
    "PREFIX ps: <http://www.wikidata.org/prop/statement/>\n",
    "PREFIX pq: <http://www.wikidata.org/prop/qualifier/>\n",
    "PREFIX patent: <http://data.epo.org/linked-data/def/patent/>\n",
    "PREFIX p: <http://www.wikidata.org/prop/>\n",
    "PREFIX owl: <http://www.w3.org/2002/07/owl#>\n",
    "PREFIX orthodbGroup: <http://purl.orthodb.org/odbgroup/>\n",
    "PREFIX orthodb: <http://purl.orthodb.org/>\n",
    "PREFIX orth: <http://purl.org/net/orth#>\n",
    "PREFIX obo: <http://purl.obolibrary.org/obo/>\n",
    "PREFIX np: <http://nextprot.org/rdf#>\n",
    "PREFIX nextprot: <http://nextprot.org/rdf/entry/>\n",
    "PREFIX mnx: <https://rdf.metanetx.org/schema/>\n",
    "PREFIX mnet: <https://rdf.metanetx.org/mnet/>\n",
    "PREFIX mesh: <http://id.nlm.nih.gov/mesh/>\n",
    "PREFIX lscr: <http://purl.org/lscr#>\n",
    "PREFIX keywords: <http://purl.uniprot.org/keywords/>\n",
    "PREFIX insdcschema: <http://ddbj.nig.ac.jp/ontologies/nucleotide/>\n",
    "PREFIX insdc: <http://identifiers.org/insdc/>\n",
    "PREFIX identifiers: <http://identifiers.org/>\n",
    "PREFIX glyconnect: <https://purl.org/glyconnect/>\n",
    "PREFIX glycan: <http://purl.jp/bio/12/glyco/glycan#>\n",
    "PREFIX genex: <http://purl.org/genex#>\n",
    "PREFIX foaf: <http://xmlns.com/foaf/0.1/>\n",
    "PREFIX faldo: <http://biohackathon.org/resource/faldo#>\n",
    "PREFIX eunisSpecies: <http://eunis.eea.europa.eu/rdf/species-schema.rdf#>\n",
    "PREFIX ensembltranscript: <http://rdf.ebi.ac.uk/resource/ensembl.transcript/>\n",
    "PREFIX ensemblterms: <http://rdf.ebi.ac.uk/terms/ensembl/>\n",
    "PREFIX ensemblprotein: <http://rdf.ebi.ac.uk/resource/ensembl.protein/>\n",
    "PREFIX ensemblexon: <http://rdf.ebi.ac.uk/resource/ensembl.exon/>\n",
    "PREFIX ensembl: <http://rdf.ebi.ac.uk/resource/ensembl/>\n",
    "PREFIX ec: <http://purl.uniprot.org/enzyme/>\n",
    "PREFIX dc: <http://purl.org/dc/terms/>\n",
    "PREFIX cco: <http://rdf.ebi.ac.uk/terms/chembl#>\n",
    "PREFIX chebihash: <http://purl.obolibrary.org/obo/chebi#>\n",
    "PREFIX CHEBI: <http://purl.obolibrary.org/obo/CHEBI_>\n",
    "PREFIX bibo: <http://purl.org/ontology/bibo/>\n",
    "PREFIX allie: <http://allie.dbcls.jp/>\n",
    "PREFIX GO: <http://purl.obolibrary.org/obo/GO_>\n",
    "PREFIX rdfs: <http://www.w3.org/2000/01/rdf-schema#>\n",
    "SELECT ?protein\n",
    "WHERE\n",
    "{\n",
    "    ?protein a up:Protein .\n",
    "    ?protein up:mnemonic ?id .\n",
    "    ?protein up:created '2021'^^xsd:gYear\n",
    "}"
   ]
  },
  {
   "cell_type": "code",
   "execution_count": 6,
   "id": "93046745",
   "metadata": {},
   "outputs": [
    {
     "data": {
      "text/html": [
       "<div class=\"krn-spql\"><table><tr class=hdr><th>count</th></tr><tr class=odd><td class=val>2029846</td></tr></table><div class=\"tinfo\">Total: 1, Shown: 1</div></div>"
      ]
     },
     "metadata": {},
     "output_type": "display_data"
    }
   ],
   "source": [
    "#Q6: 1 POINT How  many species are in the UniProt taxonomy?\n",
    "PREFIX taxon:<http://purl.uniprot.org/taxonomy/> \n",
    "PREFIX up:<http://purl.uniprot.org/core/> \n",
    "\n",
    "SELECT (COUNT(DISTINCT ?taxon) AS ?count)\n",
    "WHERE{\n",
    "  ?taxon a up:Taxon .\n",
    "  ?taxon up:rank up:Species \n",
    "}"
   ]
  },
  {
   "cell_type": "code",
   "execution_count": null,
   "id": "bf87b11a",
   "metadata": {},
   "outputs": [],
   "source": [
    "#Q7: 2 POINT  How many species have at least one protein record? \n",
    "#(this might take a long time to execute, so do this one last!)\n",
    "PREFIX taxon:<http://purl.uniprot.org/taxonomy/> \n",
    "PREFIX up:<http://purl.uniprot.org/core/> \n",
    "\n",
    "SELECT (COUNT(DISTINCT ?taxon) AS ?count)\n",
    "WHERE{\n",
    "  ?taxon a up:Taxon .\n",
    "  ?taxon up:rank up:Species .\n",
    "  ?protein a up:Protein .  \n",
    "}"
   ]
  },
  {
   "cell_type": "code",
   "execution_count": 15,
   "id": "e8553f8f",
   "metadata": {},
   "outputs": [
    {
     "data": {
      "text/html": [
       "<div class=\"krn-spql\"><table><tr class=hdr><th>name</th>\n",
       "<th>agi</th></tr></table><div class=\"tinfo\">Total: 0, Shown: 0</div></div>"
      ]
     },
     "metadata": {},
     "output_type": "display_data"
    }
   ],
   "source": [
    "#Q8: 3 points:  find the AGI codes and gene names for all Arabidopsis thaliana  proteins \n",
    "#that have a protein function annotation description that mentions “pattern formation”\n",
    "\n",
    "\n",
    "PREFIX rdfs: <http://www.w3.org/2000/01/rdf-schema#>\n",
    "PREFIX up: <http://purl.uniprot.org/uniprot/>\n",
    "PREFIX taxon: <http://purl.uniprot.org/taxonomy/>\n",
    "\n",
    "SELECT ?name ?agi\n",
    "WHERE\n",
    "{\n",
    "    ?protein a up:Protein .\n",
    "    ?protein up:organism taxon:3702 .\n",
    "    ?protein up:recommendedName ?n . \n",
    "    ?n up:shortName ?name . \n",
    "    ?protein up:encodedBy ?gene .\n",
    "    ?gene up:locusName ?agi .\n",
    "    ?protein up:annotation  ?annotation .\n",
    "    ?annotation a up:Function_Annotation .\n",
    "    ?annotation rdfs:comment ?comment .\n",
    "    FILTER regex( ?comment, 'pattern formation')\n",
    "}"
   ]
  },
  {
   "cell_type": "markdown",
   "id": "ddd33039",
   "metadata": {},
   "source": [
    "From the MetaNetX metabolic networks for metagenomics database SPARQL Endpoint: https://rdf.metanetx.org/sparql\n",
    "(this slide deck will make it much easier for you!  https://www.metanetx.org/cgi-bin/mnxget/mnxref/MetaNetX_RDF_schema.pdf)"
   ]
  },
  {
   "cell_type": "code",
   "execution_count": 2,
   "id": "ccb2963c",
   "metadata": {},
   "outputs": [
    {
     "data": {
      "text/html": [
       "<div class=\"krn-spql\"><div class=\"magic\">Endpoint set to: https://rdf.metanetx.org/sparql</div></div>"
      ],
      "text/plain": [
       "Endpoint set to: https://rdf.metanetx.org/sparql\n"
      ]
     },
     "metadata": {},
     "output_type": "display_data"
    }
   ],
   "source": [
    "%endpoint https://rdf.metanetx.org/sparql"
   ]
  },
  {
   "cell_type": "code",
   "execution_count": 3,
   "id": "fa825a67",
   "metadata": {},
   "outputs": [
    {
     "data": {
      "text/html": [
       "<div class=\"krn-spql\"><table><tr class=hdr><th>reac_label</th></tr></table><div class=\"tinfo\">Total: 0, Shown: 0</div></div>"
      ]
     },
     "metadata": {},
     "output_type": "display_data"
    }
   ],
   "source": [
    "#Q9: 4 POINTS:  what is the MetaNetX Reaction identifier (starts with “mnxr”) for the UniProt Protein uniprotkb:Q18A79\n",
    "PREFIX mnx: <https://rdf.metanetx.org/schema/>\n",
    "PREFIX uniprotkb: <http://purl.uniprot.org/uniprot/>\n",
    "\n",
    "SELECT DISTINCT ?mnxr_label\n",
    "\n",
    "WHERE{\n",
    "    ?pept a mnx:PEPT ;\n",
    "          mnx:peptXref uniprotkb:Q18A79 .\n",
    "    ?cata a mnx:CATA ;\n",
    "          mnx:pept ?pept .\n",
    "    ?gpr a mnx:GPR ;\n",
    "         mnx:cata ?cata ;\n",
    "         mnx:reac ?reac .\n",
    "    ?reac a mnx:REAC ;\n",
    "          mnx:mnxr ?mnxr .\n",
    "    ?mnxr rdfs:label ?mnxr_label .\n",
    "}\n",
    "\n",
    "\n"
   ]
  },
  {
   "cell_type": "markdown",
   "id": "10352023",
   "metadata": {},
   "source": [
    "FEDERATED QUERY - UniProt and MetaNetX\n",
    "\n"
   ]
  },
  {
   "cell_type": "code",
   "execution_count": 4,
   "id": "ee61aff5",
   "metadata": {
    "scrolled": true
   },
   "outputs": [
    {
     "data": {
      "text/html": [
       "<div class=\"krn-spql\"><div class=\"krn-error\"><span class=\"title\">Error:</span> SPARQL error: QueryBadFormed: a bad request has been sent to the endpoint, probably the sparql query is bad formed. <br/><br/>Response:<br/>b'Virtuoso 37000 Error SP030: SPARQL compiler, line 16: syntax error at \\'firter\\' before \\'contain\\'\\n\\nSPARQL query:\\ndefine sql:big-data-const 0 #Q10: 5 POINTS:  What is the official Gene ID (UniProt calls this a \\xe2\\x80\\x9cmnemonic\\xe2\\x80\\x9d) and the MetaNetX Reaction identifier (mnxr\\xe2\\x80\\xa6..) for the protein that has \\xe2\\x80\\x9cStarch synthase\\xe2\\x80\\x9d catalytic activity in Clostridium difficile (taxon 272563).\\nPREFIX mnx: &lt;https://rdf.metanetx.org/schema/&gt;\\nPREFIX rdfs: &lt;https://www.w3.org/2000/01/rdf-schema#/&gt;\\nPREFIX up: &lt;http://purl.uniprot.org/uniprot/&gt;\\nPREFIX taxon: &lt;http://purl.uniprot.org/taxonomy/&gt;\\n\\nSELECT ?mnemonic ?reac_label\\nWHERE\\n{\\n    service &lt;http://sparql.uniprot.org/sparql&gt;{\\n            ?protein a up:Protein.\\n        ?protein up:organism taxon:272563.\\n        ?protein up:mnemonic ?mnemonic.\\n        ?protein up:classifiedWith ?goTerm.\\n        ?goTerm rdfs:label ?activity.\\n        firter contain(?activity, &quot;starch synthase&quot;)\\n               bind(substr(str(?protein),33)as ?ac)\\n               bind(IRI(CONCAT(&quot;http://purl.uniprot.org/uniprot/&quot;,?ac))as ?proteinRef)\\n            \\n            \\n}\\nservice &lt;https://rdf.metanetx.org/sparql&gt;{\\n    ?pept mnx:peptXred up:Q18A79.\\n    ?cata mnx:pept ?pept .\\n    ?gpr mnx:cata ?cata ;\\n         mnx:reac ?reac.\\n    ?reac rdfs:label ?reac_label .\\n}\\n}'</div></div>"
      ],
      "text/plain": [
       "Error: SPARQL error: QueryBadFormed: a bad request has been sent to the endpoint, probably the sparql query is bad formed. \n",
       "\n",
       "Response:\n",
       "b'Virtuoso 37000 Error SP030: SPARQL compiler, line 16: syntax error at \\'firter\\' before \\'contain\\'\\n\\nSPARQL query:\\ndefine sql:big-data-const 0 #Q10: 5 POINTS:  What is the official Gene ID (UniProt calls this a \\xe2\\x80\\x9cmnemonic\\xe2\\x80\\x9d) and the MetaNetX Reaction identifier (mnxr\\xe2\\x80\\xa6..) for the protein that has \\xe2\\x80\\x9cStarch synthase\\xe2\\x80\\x9d catalytic activity in Clostridium difficile (taxon 272563).\\nPREFIX mnx: <https://rdf.metanetx.org/schema/>\\nPREFIX rdfs: <https://www.w3.org/2000/01/rdf-schema#/>\\nPREFIX up: <http://purl.uniprot.org/uniprot/>\\nPREFIX taxon: <http://purl.uniprot.org/taxonomy/>\\n\\nSELECT ?mnemonic ?reac_label\\nWHERE\\n{\\n    service <http://sparql.uniprot.org/sparql>{\\n            ?protein a up:Protein.\\n        ?protein up:organism taxon:272563.\\n        ?protein up:mnemonic ?mnemonic.\\n        ?protein up:classifiedWith ?goTerm.\\n        ?goTerm rdfs:label ?activity.\\n        firter contain(?activity, \"starch synthase\")\\n               bind(substr(str(?protein),33)as ?ac)\\n               bind(IRI(CONCAT(\"http://purl.uniprot.org/uniprot/\",?ac))as ?proteinRef)\\n            \\n            \\n}\\nservice <https://rdf.metanetx.org/sparql>{\\n    ?pept mnx:peptXred up:Q18A79.\\n    ?cata mnx:pept ?pept .\\n    ?gpr mnx:cata ?cata ;\\n         mnx:reac ?reac.\\n    ?reac rdfs:label ?reac_label .\\n}\\n}'"
      ]
     },
     "metadata": {},
     "output_type": "display_data"
    }
   ],
   "source": [
    "#Q10: 5 POINTS:  What is the official Gene ID (UniProt calls this a “mnemonic”) and the MetaNetX Reaction identifier (mnxr…..) for the protein that has “Starch synthase” catalytic activity in Clostridium difficile (taxon 272563).\n",
    "PREFIX mnx: <https://rdf.metanetx.org/schema/>\n",
    "PREFIX rdfs: <https://www.w3.org/2000/01/rdf-schema#/>\n",
    "PREFIX up: <http://purl.uniprot.org/uniprot/>\n",
    "PREFIX taxon: <http://purl.uniprot.org/taxonomy/>\n",
    "\n",
    "SELECT ?mnemonic ?reac_label\n",
    "WHERE\n",
    "{\n",
    "    service <http://sparql.uniprot.org/sparql>{\n",
    "            ?protein a up:Protein.\n",
    "        ?protein up:organism taxon:272563.\n",
    "        ?protein up:mnemonic ?mnemonic.\n",
    "        ?protein up:classifiedWith ?goTerm.\n",
    "        ?goTerm rdfs:label ?activity.\n",
    "        firter contain(?activity, \"starch synthase\")\n",
    "               bind(substr(str(?protein),33)as ?ac)\n",
    "               bind(IRI(CONCAT(\"http://purl.uniprot.org/uniprot/\",?ac))as ?proteinRef)\n",
    "            \n",
    "            \n",
    "}\n",
    "service <https://rdf.metanetx.org/sparql>{\n",
    "    ?pept mnx:peptXred up:Q18A79.\n",
    "    ?cata mnx:pept ?pept .\n",
    "    ?gpr mnx:cata ?cata ;\n",
    "         mnx:reac ?reac.\n",
    "    ?reac rdfs:label ?reac_label .\n",
    "}\n",
    "}"
   ]
  },
  {
   "cell_type": "code",
   "execution_count": null,
   "id": "74485d11",
   "metadata": {},
   "outputs": [],
   "source": []
  }
 ],
 "metadata": {
  "kernelspec": {
   "display_name": "SPARQL",
   "language": "sparql",
   "name": "sparql"
  },
  "language_info": {
   "codemirror_mode": {
    "name": "sparql"
   },
   "mimetype": "application/sparql-query",
   "name": "sparql",
   "pygments_lexer": "sparql-nb"
  }
 },
 "nbformat": 4,
 "nbformat_minor": 5
}
