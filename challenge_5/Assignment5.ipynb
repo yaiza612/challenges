{
 "cells": [
  {
   "cell_type": "markdown",
   "id": "63a2dcf3",
   "metadata": {},
   "source": [
    "#UniProt SPARQL http://sparql.uniprot.org/sparql"
   ]
  },
  {
   "cell_type": "code",
   "execution_count": 8,
   "id": "0b5bc1a7",
   "metadata": {},
   "outputs": [
    {
     "data": {
      "text/html": [
       "<div class=\"krn-spql\"><div class=\"magic\">Endpoint set to: https://sparql.uniprot.org/sparql</div><div class=\"magic\">Request format: JSON</div></div>"
      ],
      "text/plain": [
       "Endpoint set to: https://sparql.uniprot.org/sparql\n",
       "Request format: JSON\n"
      ]
     },
     "metadata": {},
     "output_type": "display_data"
    }
   ],
   "source": [
    "%endpoint https://sparql.uniprot.org/sparql\n",
    "%format JSON"
   ]
  },
  {
   "cell_type": "markdown",
   "id": "c40790b4",
   "metadata": {},
   "source": [
    "I checked in this website the answers"
   ]
  },
  {
   "cell_type": "code",
   "execution_count": 9,
   "id": "66d89634",
   "metadata": {},
   "outputs": [
    {
     "data": {
      "text/html": [
       "<div class=\"krn-spql\"><div class=\"krn-error\"><span class=\"title\">Error:</span> SPARQL error: QueryBadFormed: a bad request has been sent to the endpoint, probably the sparql query is bad formed. <br/><br/>Response:<br/>b'&lt;!DOCTYPE html SYSTEM &quot;about:legacy-compat&quot;&gt;\\n&lt;html xmlns=&quot;http://www.w3.org/1999/xhtml&quot; lang=&quot;en&quot; xml:lang=&quot;en&quot;&gt;&lt;head&gt;&lt;title&gt;UniProt&lt;/title&gt;&lt;meta content=&quot;text/html; charset=UTF-8&quot; http-equiv=&quot;Content-Type&quot;/&gt;&lt;link href=&quot;/&quot; rel=&quot;home&quot;/&gt;&lt;link href=&quot;/base.css&quot; type=&quot;text/css&quot; rel=&quot;stylesheet&quot;/&gt;&lt;link type=&quot;image/vnd.microsoft.icon&quot; href=&quot;/uniprot-favicon.ico&quot; rel=&quot;shortcut icon&quot;/&gt;&lt;link href=&quot;/uniprot-sparql.css&quot; type=&quot;text/css&quot; rel=&quot;stylesheet&quot;/&gt;&lt;link href=&quot;http://creativecommons.org/licenses/by/4.0/&quot; rel=&quot;license&quot;/&gt;&lt;script src=&quot;//cdn.jsdelivr.net/npm/yasgui-yasqe@2.11.22/dist/yasqe.bundled.min.js&quot;&gt;&lt;/script&gt;&lt;link type=&quot;text/css&quot; rel=&quot;stylesheet&quot; href=&quot;https://cdn.jsdelivr.net/yasqe/2.2/yasqe.min.css&quot;/&gt;&lt;meta content=&quot;width=device-width, initial-scale=1&quot; name=&quot;viewport&quot;/&gt;&lt;meta content=&quot;no-referrer&quot; name=&quot;referrer&quot;/&gt;&lt;/head&gt;&lt;body typeof=&quot;schema:WebPage&quot;&gt;&lt;div id=&quot;masthead-container&quot;&gt;&lt;div id=&quot;local-masthead&quot;&gt;&lt;div id=&quot;local-title&quot;&gt;&lt;h1&gt;&lt;a accesskey=&quot;1&quot; href=&quot;https://www.uniprot.org/&quot;&gt;&lt;img alt=&quot;&quot; src=&quot;https://www.uniprot.org/images/logos/Logo_medium.png&quot; title=&quot;UniProt home&quot;/&gt;&lt;/a&gt;&lt;/h1&gt;&lt;/div&gt;&lt;div id=&quot;nav&quot;&gt;&lt;ul id=&quot;local-nav&quot;&gt;&lt;li&gt;&lt;a href=&quot;/sparql&quot;&gt;SPARQL&lt;/a&gt;&lt;/li&gt;&lt;li class=&quot;first&quot;&gt;&lt;a href=&quot;https://www.uniprot.org/downloads&quot;&gt;Downloads&lt;/a&gt;&lt;/li&gt;&lt;li class=&quot;functional last&quot;&gt;&lt;a accesskey=&quot;9&quot; href=&quot;https://www.uniprot.org/contact&quot;&gt;Contact&lt;/a&gt;&lt;/li&gt;&lt;li class=&quot;functional&quot;&gt;&lt;a rel=&quot;help&quot; href=&quot;https://www.uniprot.org/help/&quot;&gt;Documentation/Help&lt;/a&gt;&lt;/li&gt;&lt;/ul&gt;&lt;/div&gt;&lt;/div&gt;&lt;/div&gt;&lt;a accesskey=&quot;2&quot; href=&quot;#content&quot; hidden=&quot;hidden&quot;&gt;Skip Header&lt;/a&gt;&lt;main class=&quot;sparql results&quot; id=&quot;content&quot;&gt;&lt;section class=&quot;error&quot; id=&quot;page-header&quot;&gt;&lt;h2 class=&quot;page-title&quot;&gt;Query evaluation exception.&lt;/h2&gt;&lt;p&gt;: SPARQL execute failed:[#1190397\\n# Q1: 1 POINT How many protein records are in UniProt?\\nPREFIX up: &amp;lt;http://purl.uniprot.org/core/&amp;gt;\\nSELECT (COUNT (?protein) AS ? count)\\nWHERE \\n{ \\n    ?protein a up:Protein . \\n}] \\n Exception:virtuoso.jdbc4.VirtuosoException: SQ074: Line 9: SP030: SPARQL compiler, line 0: Only \\'(\\' and DISTINCT are allowed after COUNT keyword in SPARQL expression at \\')\\'&lt;/p&gt;&lt;/section&gt;&lt;div class=&quot;main-aside&quot;&gt;&lt;div id=&quot;queryform&quot;&gt;&lt;h3&gt;Your query&lt;/h3&gt;&lt;form method=&quot;get&quot; action=&quot;/sparql/&quot; focus=&quot;query&quot; name=&quot;sparql-form&quot; id=&quot;sparql-form&quot;&gt;&lt;button id=&quot;addPrefix&quot; type=&quot;button&quot;&gt;Add common prefixes&lt;/button&gt;&lt;textarea accesskey=&quot;1&quot; rows=&quot;10&quot; cols=&quot;80&quot; name=&quot;query&quot; id=&quot;query&quot;&gt;# Q1: 1 POINT How many protein records are in UniProt?\\nPREFIX up: &amp;lt;http://purl.uniprot.org/core/&amp;gt;\\nSELECT (COUNT (?protein) AS ? count)\\nWHERE \\n{ \\n    ?protein a up:Protein . \\n}&lt;/textarea&gt;&lt;input type=&quot;hidden&quot; name=&quot;format&quot; value=&quot;html&quot;&gt;&lt;button id=&quot;sparqlFormSubmitter&quot; onclick=&quot;return false;&quot;&gt;Submit Query&lt;/button&gt;&lt;/form&gt;&lt;/div&gt;&lt;/div&gt;&lt;/main&gt;&lt;footer id=&quot;page-footer&quot;&gt;&lt;section class=&quot;small&quot; id=&quot;copyright&quot;&gt;\\n\\t\\t\\t&amp;copy; 2002&amp;ndash; &lt;span property=&quot;schema:copyrightYear&quot;&gt;2021&lt;/span&gt;\\n\\t\\t\\t&lt;a accesskey=&quot;9&quot; href=&quot;https://www.uniprot.org/help/about&quot;&gt;UniProt Consortium&lt;/a&gt; |\\n\\t\\t\\t&lt;a href=&quot;https://www.uniprot.org/help/license&quot; property=&quot;schema:license&quot;&gt;License\\n\\t\\t\\t\\t&amp;amp; Disclaimer&lt;/a&gt; | &lt;a href=&quot;https://www.uniprot.org/help/privacy&quot;&gt;Privacy\\n\\t\\t\\t\\tNotice&lt;/a&gt;&lt;/section&gt;&lt;section&gt;&lt;div resource=&quot;/help/about#UniProt&quot; id=&quot;logos&quot; typeof=&quot;NGO&quot; property=&quot;creator&quot;&gt;&lt;span resource=&quot;/help/about#EBI&quot; typeof=&quot;Organization&quot; class=&quot;ebi&quot; property=&quot;member&quot;&gt;&lt;span hidden=&quot;hidden&quot; property=&quot;name&quot;&gt;European Bioinformatics Institute&lt;/span&gt;&lt;a href=&quot;https://www.ebi.ac.uk/&quot; property=&quot;url&quot;&gt;&lt;/a&gt;&lt;/span&gt;&lt;span resource=&quot;/help/about#PIR&quot; typeof=&quot;Organization&quot; class=&quot;pir&quot; property=&quot;member&quot;&gt;&lt;span hidden=&quot;hidden&quot; property=&quot;name&quot;&gt;Protein Information Resource&lt;/span&gt;&lt;a href=&quot;http://pir.georgetown.edu/&quot; property=&quot;url&quot;&gt;&lt;/a&gt;&lt;/span&gt;&lt;span resource=&quot;/help/about#SIB&quot; typeof=&quot;Organization&quot; class=&quot;sib&quot; property=&quot;member&quot;&gt;&lt;span hidden=&quot;hidden&quot; property=&quot;name&quot;&gt;SIB Swiss Institute of Bioinformatics&lt;/span&gt;&lt;a href=&quot;https://www.sib.swiss/&quot; property=&quot;url&quot;&gt;&lt;/a&gt;&lt;/span&gt;&lt;/div&gt;&lt;/section&gt;&lt;section id=&quot;poweredby&quot;&gt;&lt;h3&gt;Powered by&lt;/h3&gt;&lt;span class=&quot;vitalit&quot; resource=&quot;https://www.sib.swiss/alan-bridge-group/&quot; typeof=&quot;schema:NGO&quot; property=&quot;schema:sponsor&quot;&gt;&lt;h4&gt;Hardware&lt;/h4&gt;&lt;a href=&quot;https://www.sib.swiss/alan-bridge-group&quot; property=&quot;schema:url&quot;&gt;&lt;img alt=&quot;Swiss-Prot&quot; src=&quot;https://www.sib.swiss//templates/sib/images/SIB_LogoQ_GBv.svg&quot;/&gt;&lt;h5 property=&quot;schema:name&quot;&gt;Swiss-Prot&lt;/h5&gt;&lt;/a&gt;&lt;/span&gt;&lt;span class=&quot;openlinksw&quot; resource=&quot;http://www.openlinksw.com/#this&quot; typeof=&quot;schema:Corporation&quot; property=&quot;schema:sponsor&quot;&gt;&lt;h4&gt;Software&lt;/h4&gt;&lt;a href=&quot;http://virtuoso.openlinksw.com/&quot; property=&quot;schema:url&quot;&gt;&lt;img alt=&quot;Virtuoso&quot; src=&quot;/images/logos/virtuoso.png&quot;/&gt;&lt;h5 property=&quot;schema:name&quot;&gt;Virtuoso&lt;/h5&gt;&lt;/a&gt;&lt;/span&gt;&lt;/section&gt;&lt;/footer&gt;&lt;script src=&quot;//cdn.jsdelivr.net/npm/yasgui-yasqe@2.11.22/dist/yasqe.bundled.min.js&quot;&gt;&lt;/script&gt;&lt;script src=&quot;/sparql.js&quot; type=&quot;text/javascript&quot;&gt; &lt;/script&gt;&lt;script src=&quot;/scripts/globalVars.js&quot; type=&quot;text/javascript&quot;&gt; &lt;/script&gt;&lt;script src=&quot;https://www.google-analytics.com/analytics.js&quot; async=&quot;async&quot;&gt;&lt;/script&gt;&lt;script type=&quot;text/javascript&quot;&gt;\\n\\t\\t\\twindow.ga=window.ga||function(){(ga.q=ga.q||[]).push(arguments)};ga.l=+new Date;\\n\\n\\t\\t\\t\\n\\t\\t\\t\\t\\tga(\\'create\\', \\'UA-6228219-3\\', \\'auto\\');\\n\\t\\t\\t\\t\\t\\t\\t\\t\\n\\t\\t\\tga(\\'set\\', \\'anonymizeIp\\', true);\\n\\t\\t\\tga(\\'set\\', \\'forceSSL\\', true);\\n\\t\\t\\tga(\\'send\\', \\'pageview\\');\\n\\t\\t&lt;/script&gt;&lt;/body&gt;&lt;/html&gt;'</div></div>"
      ],
      "text/plain": [
       "Error: SPARQL error: QueryBadFormed: a bad request has been sent to the endpoint, probably the sparql query is bad formed. \n",
       "\n",
       "Response:\n",
       "b'<!DOCTYPE html SYSTEM \"about:legacy-compat\">\\n<html xmlns=\"http://www.w3.org/1999/xhtml\" lang=\"en\" xml:lang=\"en\"><head><title>UniProt</title><meta content=\"text/html; charset=UTF-8\" http-equiv=\"Content-Type\"/><link href=\"/\" rel=\"home\"/><link href=\"/base.css\" type=\"text/css\" rel=\"stylesheet\"/><link type=\"image/vnd.microsoft.icon\" href=\"/uniprot-favicon.ico\" rel=\"shortcut icon\"/><link href=\"/uniprot-sparql.css\" type=\"text/css\" rel=\"stylesheet\"/><link href=\"http://creativecommons.org/licenses/by/4.0/\" rel=\"license\"/><script src=\"//cdn.jsdelivr.net/npm/yasgui-yasqe@2.11.22/dist/yasqe.bundled.min.js\"></script><link type=\"text/css\" rel=\"stylesheet\" href=\"https://cdn.jsdelivr.net/yasqe/2.2/yasqe.min.css\"/><meta content=\"width=device-width, initial-scale=1\" name=\"viewport\"/><meta content=\"no-referrer\" name=\"referrer\"/></head><body typeof=\"schema:WebPage\"><div id=\"masthead-container\"><div id=\"local-masthead\"><div id=\"local-title\"><h1><a accesskey=\"1\" href=\"https://www.uniprot.org/\"><img alt=\"\" src=\"https://www.uniprot.org/images/logos/Logo_medium.png\" title=\"UniProt home\"/></a></h1></div><div id=\"nav\"><ul id=\"local-nav\"><li><a href=\"/sparql\">SPARQL</a></li><li class=\"first\"><a href=\"https://www.uniprot.org/downloads\">Downloads</a></li><li class=\"functional last\"><a accesskey=\"9\" href=\"https://www.uniprot.org/contact\">Contact</a></li><li class=\"functional\"><a rel=\"help\" href=\"https://www.uniprot.org/help/\">Documentation/Help</a></li></ul></div></div></div><a accesskey=\"2\" href=\"#content\" hidden=\"hidden\">Skip Header</a><main class=\"sparql results\" id=\"content\"><section class=\"error\" id=\"page-header\"><h2 class=\"page-title\">Query evaluation exception.</h2><p>: SPARQL execute failed:[#1190397\\n# Q1: 1 POINT How many protein records are in UniProt?\\nPREFIX up: &lt;http://purl.uniprot.org/core/&gt;\\nSELECT (COUNT (?protein) AS ? count)\\nWHERE \\n{ \\n    ?protein a up:Protein . \\n}] \\n Exception:virtuoso.jdbc4.VirtuosoException: SQ074: Line 9: SP030: SPARQL compiler, line 0: Only \\'(\\' and DISTINCT are allowed after COUNT keyword in SPARQL expression at \\')\\'</p></section><div class=\"main-aside\"><div id=\"queryform\"><h3>Your query</h3><form method=\"get\" action=\"/sparql/\" focus=\"query\" name=\"sparql-form\" id=\"sparql-form\"><button id=\"addPrefix\" type=\"button\">Add common prefixes</button><textarea accesskey=\"1\" rows=\"10\" cols=\"80\" name=\"query\" id=\"query\"># Q1: 1 POINT How many protein records are in UniProt?\\nPREFIX up: &lt;http://purl.uniprot.org/core/&gt;\\nSELECT (COUNT (?protein) AS ? count)\\nWHERE \\n{ \\n    ?protein a up:Protein . \\n}</textarea><input type=\"hidden\" name=\"format\" value=\"html\"><button id=\"sparqlFormSubmitter\" onclick=\"return false;\">Submit Query</button></form></div></div></main><footer id=\"page-footer\"><section class=\"small\" id=\"copyright\">\\n\\t\\t\\t&copy; 2002&ndash; <span property=\"schema:copyrightYear\">2021</span>\\n\\t\\t\\t<a accesskey=\"9\" href=\"https://www.uniprot.org/help/about\">UniProt Consortium</a> |\\n\\t\\t\\t<a href=\"https://www.uniprot.org/help/license\" property=\"schema:license\">License\\n\\t\\t\\t\\t&amp; Disclaimer</a> | <a href=\"https://www.uniprot.org/help/privacy\">Privacy\\n\\t\\t\\t\\tNotice</a></section><section><div resource=\"/help/about#UniProt\" id=\"logos\" typeof=\"NGO\" property=\"creator\"><span resource=\"/help/about#EBI\" typeof=\"Organization\" class=\"ebi\" property=\"member\"><span hidden=\"hidden\" property=\"name\">European Bioinformatics Institute</span><a href=\"https://www.ebi.ac.uk/\" property=\"url\"></a></span><span resource=\"/help/about#PIR\" typeof=\"Organization\" class=\"pir\" property=\"member\"><span hidden=\"hidden\" property=\"name\">Protein Information Resource</span><a href=\"http://pir.georgetown.edu/\" property=\"url\"></a></span><span resource=\"/help/about#SIB\" typeof=\"Organization\" class=\"sib\" property=\"member\"><span hidden=\"hidden\" property=\"name\">SIB Swiss Institute of Bioinformatics</span><a href=\"https://www.sib.swiss/\" property=\"url\"></a></span></div></section><section id=\"poweredby\"><h3>Powered by</h3><span class=\"vitalit\" resource=\"https://www.sib.swiss/alan-bridge-group/\" typeof=\"schema:NGO\" property=\"schema:sponsor\"><h4>Hardware</h4><a href=\"https://www.sib.swiss/alan-bridge-group\" property=\"schema:url\"><img alt=\"Swiss-Prot\" src=\"https://www.sib.swiss//templates/sib/images/SIB_LogoQ_GBv.svg\"/><h5 property=\"schema:name\">Swiss-Prot</h5></a></span><span class=\"openlinksw\" resource=\"http://www.openlinksw.com/#this\" typeof=\"schema:Corporation\" property=\"schema:sponsor\"><h4>Software</h4><a href=\"http://virtuoso.openlinksw.com/\" property=\"schema:url\"><img alt=\"Virtuoso\" src=\"/images/logos/virtuoso.png\"/><h5 property=\"schema:name\">Virtuoso</h5></a></span></section></footer><script src=\"//cdn.jsdelivr.net/npm/yasgui-yasqe@2.11.22/dist/yasqe.bundled.min.js\"></script><script src=\"/sparql.js\" type=\"text/javascript\"> </script><script src=\"/scripts/globalVars.js\" type=\"text/javascript\"> </script><script src=\"https://www.google-analytics.com/analytics.js\" async=\"async\"></script><script type=\"text/javascript\">\\n\\t\\t\\twindow.ga=window.ga||function(){(ga.q=ga.q||[]).push(arguments)};ga.l=+new Date;\\n\\n\\t\\t\\t\\n\\t\\t\\t\\t\\tga(\\'create\\', \\'UA-6228219-3\\', \\'auto\\');\\n\\t\\t\\t\\t\\t\\t\\t\\t\\n\\t\\t\\tga(\\'set\\', \\'anonymizeIp\\', true);\\n\\t\\t\\tga(\\'set\\', \\'forceSSL\\', true);\\n\\t\\t\\tga(\\'send\\', \\'pageview\\');\\n\\t\\t</script></body></html>'"
      ]
     },
     "metadata": {},
     "output_type": "display_data"
    }
   ],
   "source": [
    "# Q1: 1 POINT How many protein records are in UniProt?\n",
    "PREFIX up: <http://purl.uniprot.org/core/>\n",
    "SELECT (COUNT (?protein) AS ? count)\n",
    "WHERE \n",
    "{ \n",
    "    ?protein a up:Protein . \n",
    "}"
   ]
  },
  {
   "cell_type": "code",
   "execution_count": null,
   "id": "4f507cf1",
   "metadata": {},
   "outputs": [],
   "source": []
  }
 ],
 "metadata": {
  "kernelspec": {
   "display_name": "SPARQL",
   "language": "sparql",
   "name": "sparql"
  },
  "language_info": {
   "codemirror_mode": {
    "name": "sparql"
   },
   "mimetype": "application/sparql-query",
   "name": "sparql",
   "pygments_lexer": "sparql-nb"
  }
 },
 "nbformat": 4,
 "nbformat_minor": 5
}
